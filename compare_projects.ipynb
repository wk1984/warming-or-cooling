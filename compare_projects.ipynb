{
 "cells": [
  {
   "cell_type": "code",
   "execution_count": null,
   "id": "f410761e",
   "metadata": {},
   "outputs": [],
   "source": [
    "%matplotlib inline\n",
    "\n",
    "import sys,os, warnings, time\n",
    "import numpy as np\n",
    "import matplotlib.cm\n",
    "from matplotlib import pyplot as plt\n",
    "import pandas as pd\n",
    "import seaborn as sns\n",
    "import matplotlib.dates as mdates\n",
    "import matplotlib.gridspec as gridspec\n",
    "import ats_xdmf\n",
    "%config InlineBackend.figure_format = 'retina'\n",
    "\n",
    "warnings.filterwarnings(\"ignore\")\n",
    "\n",
    "sns.set(style = 'ticks', font_scale=1.5)\n",
    "\n",
    "print(os.environ['ATS_SRC_DIR'])\n",
    "\n",
    "# sys.path.append(\"../\")\n",
    "from my_utils import my_utils"
   ]
  },
  {
   "cell_type": "code",
   "execution_count": null,
   "id": "cac5ea8a",
   "metadata": {},
   "outputs": [],
   "source": [
    "root_path = os.getcwd()\n",
    "\n",
    "figres = 100\n",
    "lwd  = 3\n",
    "\n",
    "length = 365\n",
    "\n",
    "# load raw results ...\n",
    "\n",
    "proj_path = os.path.join(root_path,'regions','cw','05peat')\n",
    "\n",
    "baseline_foldername = os.path.join(proj_path, 'c')\n",
    "\n",
    "t0, depth, tsoil = my_utils.get_variable_field(baseline_foldername, 'temperature', length=length)\n",
    "\n",
    "tbase = tsoil.mean(axis=0)\n",
    "tbase_max = tsoil.max(axis=0)\n",
    "tbase_min = tsoil.min(axis=0)\n",
    "\n",
    "plt.plot(tbase, depth)\n",
    "plt.plot(tbase_max, depth)\n",
    "plt.plot(tbase_min, depth)"
   ]
  },
  {
   "cell_type": "code",
   "execution_count": null,
   "id": "285bf077",
   "metadata": {},
   "outputs": [],
   "source": [
    "for proj in ['i']:\n",
    "\n",
    "    # proj_path = os.path.join(root_path, proj)\n",
    "\n",
    "    test_foldername = os.path.join(proj_path, proj)\n",
    "\n",
    "    t0, depth, tsoil = my_utils.get_variable_field(test_foldername, 'temperature', length=length)\n",
    "\n",
    "    plt.plot(tsoil.max(axis=0) - tbase_max, depth, '-.', label = proj)\n",
    "\n",
    "plt.ylim([-15,0])\n",
    "\n",
    "plt.legend()"
   ]
  },
  {
   "cell_type": "code",
   "execution_count": null,
   "id": "9cfeeb73",
   "metadata": {},
   "outputs": [],
   "source": [
    "time_base, depth_base, tsoil_base = my_utils.get_soil_temperatures(baseline_foldername, length=length)\n",
    "_, snod_base = my_utils.get_single_layer(baseline_foldername, 'snow-depth', domain='snow',\n",
    "                                         length=length)\n",
    "_, tair = my_utils.get_single_layer(baseline_foldername, 'air_temperature', domain='surface',\n",
    "                                         length = length)\n",
    "\n",
    "my_utils.plot_snow_soil(time_base, depth_base, snod_base, tsoil_base, figsize=[7,7], ylim_bot=[-0.80, 0], ylim_top=[0,0.5])\n",
    "\n",
    "# print(depth_base)\n",
    "\n",
    "for proj in ['i']:\n",
    "\n",
    "    test_foldername = os.path.join(proj_path, proj)\n",
    "\n",
    "    t0, depth, tsoil = my_utils.get_variable_field(test_foldername, 'temperature', length=length)\n",
    "\n",
    "    plt.contour(time_base, depth_base, tsoil.T, [273.15], colors=['r'], linewidths = [2], linestyles = [':'])\n",
    "\n",
    "plt.savefig(os.path.join(proj_path, 'Fig02_snow_active_layer.png'), dpi = figres, bbox_inches='tight')\n",
    "\n",
    "# print(depth_base)"
   ]
  },
  {
   "cell_type": "code",
   "execution_count": null,
   "id": "ea47abfc",
   "metadata": {},
   "outputs": [],
   "source": []
  }
 ],
 "metadata": {
  "kernelspec": {
   "display_name": "Python 3 (ipykernel)",
   "language": "python",
   "name": "python3"
  },
  "language_info": {
   "codemirror_mode": {
    "name": "ipython",
    "version": 3
   },
   "file_extension": ".py",
   "mimetype": "text/x-python",
   "name": "python",
   "nbconvert_exporter": "python",
   "pygments_lexer": "ipython3",
   "version": "3.9.18"
  }
 },
 "nbformat": 4,
 "nbformat_minor": 5
}
