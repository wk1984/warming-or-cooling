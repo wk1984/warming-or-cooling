{
 "cells": [
  {
   "cell_type": "code",
   "execution_count": null,
   "id": "f410761e",
   "metadata": {},
   "outputs": [],
   "source": [
    "%matplotlib inline\n",
    "\n",
    "import sys,os, warnings, time\n",
    "import numpy as np\n",
    "import matplotlib.cm\n",
    "from matplotlib import pyplot as plt\n",
    "import pandas as pd\n",
    "import seaborn as sns\n",
    "import matplotlib.dates as mdates\n",
    "import matplotlib.gridspec as gridspec\n",
    "import ats_xdmf\n",
    "%config InlineBackend.figure_format = 'retina'\n",
    "\n",
    "warnings.filterwarnings(\"ignore\")\n",
    "\n",
    "sns.set(style = 'ticks', font_scale=1.5)\n",
    "\n",
    "print(os.environ['ATS_SRC_DIR'])\n",
    "\n",
    "# sys.path.append(\"../\")\n",
    "from my_utils import my_utils"
   ]
  },
  {
   "cell_type": "code",
   "execution_count": null,
   "id": "cac5ea8a",
   "metadata": {},
   "outputs": [],
   "source": [
    "root_path = os.getcwd()\n",
    "\n",
    "figres = 100\n",
    "lwd  = 3\n",
    "\n",
    "# proj_path = os.path.join(root_path,'template')\n",
    "\n",
    "proj_path = os.path.join(root_path,'regions','ww','02peat')\n",
    "\n",
    "# baseline_foldername = os.path.join(proj_path, 'test2_spinup.run')\n",
    "\n",
    "baseline_foldername = os.path.join(proj_path,'spinup')\n",
    "\n",
    "length = 365 * 1"
   ]
  },
  {
   "cell_type": "code",
   "execution_count": null,
   "id": "7ce41635",
   "metadata": {},
   "outputs": [],
   "source": [
    "\n",
    "t0, tair = my_utils.get_single_layer(baseline_foldername, 'air_temperature', domain = 'surface', length=length)\n",
    "_, rain = my_utils.get_single_layer(baseline_foldername, 'precipitation_rain', domain = 'surface', length=length)\n",
    "_, rsds = my_utils.get_single_layer(baseline_foldername, 'incoming_shortwave_radiation', domain = 'surface', length=length)\n",
    "\n",
    "my_utils.quickplot_ts(t0, tair - 273.15, ylabel='Air temperature ($^\\circ$C)')\n",
    "\n",
    "my_utils.quickplot_ts(t0, rain*86400*1000, ylabel='Rain (mm)')\n",
    "\n",
    "my_utils.quickplot_ts(t0, rsds, ylabel='Solar radiation ($W/m^2$)')\n",
    "\n",
    "# print(t0)"
   ]
  },
  {
   "cell_type": "code",
   "execution_count": null,
   "id": "33e7db22",
   "metadata": {},
   "outputs": [],
   "source": [
    "t0, depth, tsoil = my_utils.get_variable_field(baseline_foldername, 'temperature', length=length)\n",
    "\n",
    "# print(depth)\n",
    "\n",
    "tsoil = tsoil - 273.15\n",
    "\n",
    "# depth.shape, depth.max()\n",
    "\n",
    "# plt.pcolor(t0, depth, tsoil.T*1000000 )\n",
    "# plt.ylim([-2,0])\n",
    "# plt.colorbar()\n",
    "\n",
    "fig, ax = my_utils.quickplot_ts(t0, tsoil[:, depth == -0.15]*1, label = '0.150 m', linewidth = lwd, \n",
    "                                ylabel='Soil temperature ($^\\circ$C)')\n",
    "# ax.plot(t0, tsoil[:, depth == -0.250]*1, linewidth = lwd, label = '0.250 m')\n",
    "# ax.plot(t0, tsoil[:, depth == -0.530]*1, linewidth = lwd, label = '0.530 m')\n",
    "# ax.plot(t0, tsoil[:, depth == -0.950]*1, linewidth = lwd, label = '0.950 m')\n",
    "# ax.plot(t0, tsoil[:, depth == -1.56109]*1, linewidth = lwd, label = '1.561 m')\n",
    "plt.legend()\n",
    "# plt.title(climate_group)\n",
    "\n",
    "# plt.ylim([-8+273.15*0, 8+273.15*0])\n",
    "\n",
    "plt.savefig(os.path.join(proj_path, 'Fig01_soil_temp.png'), dpi = figres, bbox_inches='tight')"
   ]
  },
  {
   "cell_type": "code",
   "execution_count": null,
   "id": "8b0a3435",
   "metadata": {},
   "outputs": [],
   "source": [
    "time_base, depth_base, tsoil_base = my_utils.get_soil_temperatures(baseline_foldername, length=length)\n",
    "_, snod_base = my_utils.get_single_layer(baseline_foldername, 'snow-depth', domain='snow',\n",
    "                                         length=length)\n",
    "_, tair = my_utils.get_single_layer(baseline_foldername, 'air_temperature', domain='surface',\n",
    "                                         length = length)\n",
    "\n",
    "my_utils.plot_snow_soil(time_base, depth_base, snod_base, tsoil_base, figsize=[7,7], ylim_bot=[-0.80, 0], ylim_top=[0,0.5])\n",
    "\n",
    "plt.savefig(os.path.join(proj_path, 'Fig02_snow_active_layer.png'), dpi = figres, bbox_inches='tight')\n",
    "\n",
    "# print(depth_base)"
   ]
  },
  {
   "cell_type": "code",
   "execution_count": null,
   "id": "b6ba8ed6",
   "metadata": {},
   "outputs": [],
   "source": [
    "time_base, depth_base, tsoil_base = my_utils.get_soil_temperatures(baseline_foldername, length=length)\n",
    "\n",
    "plt.figure(figsize = [6.5,8])\n",
    "\n",
    "plt.plot(tsoil_base.max(axis=0), depth_base, 'r-.', label = 'Max')\n",
    "plt.plot(tsoil_base.mean(axis=0), depth_base, 'k', linewidth = lwd, label = 'Mean')\n",
    "plt.plot(tsoil_base.min(axis=0), depth_base, 'b-.', label = 'Min')\n",
    "\n",
    "plt.legend()\n",
    "\n",
    "# plt.suptitle(climate_group)\n",
    "\n",
    "plt.vlines(x = 0, ymax = 0, ymin = -40, linestyles='--', color = 'k')\n",
    "\n",
    "plt.ylim([-35,0])\n",
    "plt.xlim([-25, 15])\n",
    "\n",
    "plt.ylabel('Depth (m)')\n",
    "plt.xlabel('Soil Temperature ($^\\circ$C)')\n",
    "\n",
    "obs_magt = np.array([[-12, -8.5], [-14, -8.64], [-18, -8.90], [-24, -9.27]])\n",
    "plt.scatter(obs_magt[:,1], obs_magt[:,0], color = 'c')\n",
    "\n",
    "# plt.title('Annual temperature profile')\n",
    "\n",
    "plt.savefig(os.path.join(proj_path, 'Fig03_temperature_profile.png'), dpi = figres, bbox_inches='tight')"
   ]
  },
  {
   "cell_type": "code",
   "execution_count": null,
   "id": "abb7dea7",
   "metadata": {},
   "outputs": [],
   "source": [
    "for i in depth:\n",
    "\n",
    "    print('{:0.5f}'.format(i))"
   ]
  },
  {
   "cell_type": "code",
   "execution_count": null,
   "id": "a182e5a0",
   "metadata": {},
   "outputs": [],
   "source": []
  }
 ],
 "metadata": {
  "kernelspec": {
   "display_name": "Python 3 (ipykernel)",
   "language": "python",
   "name": "python3"
  },
  "language_info": {
   "codemirror_mode": {
    "name": "ipython",
    "version": 3
   },
   "file_extension": ".py",
   "mimetype": "text/x-python",
   "name": "python",
   "nbconvert_exporter": "python",
   "pygments_lexer": "ipython3",
   "version": "3.9.18"
  }
 },
 "nbformat": 4,
 "nbformat_minor": 5
}
